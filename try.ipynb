{
 "cells": [
  {
   "cell_type": "code",
   "execution_count": 16,
   "metadata": {},
   "outputs": [
    {
     "data": {
      "text/plain": [
       "{'content': 'Hello, how are you doing?'}"
      ]
     },
     "execution_count": 16,
     "metadata": {},
     "output_type": "execute_result"
    }
   ],
   "source": [
    "from langchain_groq import ChatGroq\n",
    "import os\n",
    "from dotenv import load_dotenv\n",
    "from langchain.prompts import ChatPromptTemplate\n",
    "import json\n",
    "\n",
    "load_dotenv()\n",
    "\n",
    "#Langsmith Tracking\n",
    "os.environ['LANGCHAIN_API_KEY']=os.getenv('LANGCHAIN_API_KEY')\n",
    "os.environ['LANGCHAIN_TRACKING_V2']=\"true\"\n",
    "os.environ['LANGCHAIN_PROJECT']=os.getenv('LANGCHAIN_PROJECT')\n",
    "os.environ['GROQ_API_KEY']=os.getenv('GROQ_API_KEY')\n",
    "os.environ['HF_TOKEN']=os.getenv('HF_TOKEN')\n",
    "groq_api_key=os.getenv('GROQ_API_KEY')\n",
    "\n",
    "llm = ChatGroq(api_key=groq_api_key, model=\"gemma2-9b-it\")\n",
    "\n",
    "# prompt = ChatPromptTemplate.from_messages([\n",
    "#     (\"system\", \"Answer in json format, like {{\\\"content\\\": \\\"Hello, how are you today?\\\"}}\"),\n",
    "#     (\"human\", \"{input}\"),\n",
    "#     ]\n",
    "#     )\n",
    "\n",
    "evaluation_prompt = ChatPromptTemplate.from_template(\n",
    "    template=\"Answer in json format, like {{\\\"content\\\": \\\"Hello, how are you today?\\\"}}\",\n",
    "    )\n",
    "chain = evaluation_prompt | llm\n",
    "json.loads(chain.invoke({\"input\": \"Hello, how are you today?\"}).content)"
   ]
  },
  {
   "cell_type": "code",
   "execution_count": 13,
   "metadata": {},
   "outputs": [],
   "source": [
    "import requests\n",
    "import fitz  # PyMuPDF\n",
    "from fastapi import FastAPI, HTTPException, Request\n",
    "\n",
    "def download_resume(url: str) -> str:\n",
    "    \"\"\"\n",
    "    Downloads the resume from a URL and returns the file path.\n",
    "    \"\"\"\n",
    "    response = requests.get(url)\n",
    "    if response.status_code == 200:\n",
    "        resume_path = \"tmp/resume.pdf\"\n",
    "        with open(resume_path, \"wb\", ) as f:\n",
    "            f.write(response.content)\n",
    "        return resume_path\n",
    "    else:\n",
    "        raise HTTPException(status_code=400, detail=\"Failed to download resume\")"
   ]
  },
  {
   "cell_type": "code",
   "execution_count": 14,
   "metadata": {},
   "outputs": [
    {
     "data": {
      "text/plain": [
       "'tmp/resume.pdf'"
      ]
     },
     "execution_count": 14,
     "metadata": {},
     "output_type": "execute_result"
    }
   ],
   "source": []
  },
  {
   "cell_type": "code",
   "execution_count": null,
   "metadata": {},
   "outputs": [],
   "source": []
  }
 ],
 "metadata": {
  "kernelspec": {
   "display_name": "Python 3",
   "language": "python",
   "name": "python3"
  },
  "language_info": {
   "codemirror_mode": {
    "name": "ipython",
    "version": 3
   },
   "file_extension": ".py",
   "mimetype": "text/x-python",
   "name": "python",
   "nbconvert_exporter": "python",
   "pygments_lexer": "ipython3",
   "version": "3.10.0"
  }
 },
 "nbformat": 4,
 "nbformat_minor": 2
}
